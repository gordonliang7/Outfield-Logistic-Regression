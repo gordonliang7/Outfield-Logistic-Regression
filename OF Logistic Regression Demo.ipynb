{
 "cells": [
  {
   "cell_type": "code",
   "execution_count": 1,
   "id": "566080e2",
   "metadata": {},
   "outputs": [],
   "source": [
    "%run 'OF Logistic Regression.py'"
   ]
  },
  {
   "cell_type": "code",
   "execution_count": 2,
   "id": "d752d506",
   "metadata": {},
   "outputs": [],
   "source": [
    "# OPTIONAL: It just hides the ugly skLearn warnings.\n",
    "\n",
    "import warnings\n",
    "warnings.filterwarnings(\"ignore\", category=UserWarning)"
   ]
  },
  {
   "cell_type": "code",
   "execution_count": 3,
   "id": "4ffbb43a",
   "metadata": {},
   "outputs": [
    {
     "name": "stdout",
     "output_type": "stream",
     "text": [
      "Paste Savant Link Here: https://baseballsavant.mlb.com/savant-player/jake-meyers-676694?stats=statcast-r-fielding-mlb\n"
     ]
    }
   ],
   "source": [
    "# Mine Jake Meyers's outfield data via link\n",
    "# To get link: go on player page and click \"Fielding\"\n",
    "# This doesn't work if the dropdown below \"Statcast Fielding Breakdown\" says \"Batter Perspective\" (WIP)\n",
    "\n",
    "JakeMeyers = OFrange()"
   ]
  },
  {
   "cell_type": "code",
   "execution_count": 4,
   "id": "88c255d6",
   "metadata": {},
   "outputs": [
    {
     "data": {
      "text/html": [
       "<div>\n",
       "<style scoped>\n",
       "    .dataframe tbody tr th:only-of-type {\n",
       "        vertical-align: middle;\n",
       "    }\n",
       "\n",
       "    .dataframe tbody tr th {\n",
       "        vertical-align: top;\n",
       "    }\n",
       "\n",
       "    .dataframe thead th {\n",
       "        text-align: right;\n",
       "    }\n",
       "</style>\n",
       "<table border=\"1\" class=\"dataframe\">\n",
       "  <thead>\n",
       "    <tr style=\"text-align: right;\">\n",
       "      <th></th>\n",
       "      <th>Out?</th>\n",
       "      <th>Distance Covered</th>\n",
       "      <th>Hang Time</th>\n",
       "      <th>Wall?</th>\n",
       "      <th>Back?</th>\n",
       "      <th>Out Binary</th>\n",
       "      <th>Wall Binary</th>\n",
       "      <th>Back Binary</th>\n",
       "      <th>BBD</th>\n",
       "    </tr>\n",
       "  </thead>\n",
       "  <tbody>\n",
       "    <tr>\n",
       "      <th>0</th>\n",
       "      <td>True</td>\n",
       "      <td>107.94</td>\n",
       "      <td>6.39</td>\n",
       "      <td>False</td>\n",
       "      <td>False</td>\n",
       "      <td>1</td>\n",
       "      <td>0</td>\n",
       "      <td>0</td>\n",
       "      <td>OUT</td>\n",
       "    </tr>\n",
       "    <tr>\n",
       "      <th>1</th>\n",
       "      <td>True</td>\n",
       "      <td>79.66</td>\n",
       "      <td>5.89</td>\n",
       "      <td>False</td>\n",
       "      <td>False</td>\n",
       "      <td>1</td>\n",
       "      <td>0</td>\n",
       "      <td>0</td>\n",
       "      <td>OUT</td>\n",
       "    </tr>\n",
       "    <tr>\n",
       "      <th>2</th>\n",
       "      <td>True</td>\n",
       "      <td>100.94</td>\n",
       "      <td>6.39</td>\n",
       "      <td>True</td>\n",
       "      <td>False</td>\n",
       "      <td>1</td>\n",
       "      <td>1</td>\n",
       "      <td>0</td>\n",
       "      <td>OUT</td>\n",
       "    </tr>\n",
       "    <tr>\n",
       "      <th>3</th>\n",
       "      <td>True</td>\n",
       "      <td>25.90</td>\n",
       "      <td>3.71</td>\n",
       "      <td>False</td>\n",
       "      <td>True</td>\n",
       "      <td>1</td>\n",
       "      <td>0</td>\n",
       "      <td>1</td>\n",
       "      <td>OUT</td>\n",
       "    </tr>\n",
       "    <tr>\n",
       "      <th>4</th>\n",
       "      <td>True</td>\n",
       "      <td>72.66</td>\n",
       "      <td>4.75</td>\n",
       "      <td>False</td>\n",
       "      <td>False</td>\n",
       "      <td>1</td>\n",
       "      <td>0</td>\n",
       "      <td>0</td>\n",
       "      <td>OUT</td>\n",
       "    </tr>\n",
       "    <tr>\n",
       "      <th>...</th>\n",
       "      <td>...</td>\n",
       "      <td>...</td>\n",
       "      <td>...</td>\n",
       "      <td>...</td>\n",
       "      <td>...</td>\n",
       "      <td>...</td>\n",
       "      <td>...</td>\n",
       "      <td>...</td>\n",
       "      <td>...</td>\n",
       "    </tr>\n",
       "    <tr>\n",
       "      <th>262</th>\n",
       "      <td>True</td>\n",
       "      <td>62.02</td>\n",
       "      <td>3.49</td>\n",
       "      <td>False</td>\n",
       "      <td>False</td>\n",
       "      <td>1</td>\n",
       "      <td>0</td>\n",
       "      <td>0</td>\n",
       "      <td>OUT</td>\n",
       "    </tr>\n",
       "    <tr>\n",
       "      <th>263</th>\n",
       "      <td>True</td>\n",
       "      <td>93.94</td>\n",
       "      <td>5.65</td>\n",
       "      <td>False</td>\n",
       "      <td>False</td>\n",
       "      <td>1</td>\n",
       "      <td>0</td>\n",
       "      <td>0</td>\n",
       "      <td>OUT</td>\n",
       "    </tr>\n",
       "    <tr>\n",
       "      <th>264</th>\n",
       "      <td>False</td>\n",
       "      <td>91.98</td>\n",
       "      <td>3.81</td>\n",
       "      <td>False</td>\n",
       "      <td>False</td>\n",
       "      <td>0</td>\n",
       "      <td>0</td>\n",
       "      <td>0</td>\n",
       "      <td>HIT</td>\n",
       "    </tr>\n",
       "    <tr>\n",
       "      <th>265</th>\n",
       "      <td>True</td>\n",
       "      <td>79.66</td>\n",
       "      <td>3.99</td>\n",
       "      <td>False</td>\n",
       "      <td>False</td>\n",
       "      <td>1</td>\n",
       "      <td>0</td>\n",
       "      <td>0</td>\n",
       "      <td>OUT</td>\n",
       "    </tr>\n",
       "    <tr>\n",
       "      <th>266</th>\n",
       "      <td>False</td>\n",
       "      <td>58.38</td>\n",
       "      <td>1.79</td>\n",
       "      <td>False</td>\n",
       "      <td>False</td>\n",
       "      <td>0</td>\n",
       "      <td>0</td>\n",
       "      <td>0</td>\n",
       "      <td>HIT</td>\n",
       "    </tr>\n",
       "  </tbody>\n",
       "</table>\n",
       "<p>267 rows × 9 columns</p>\n",
       "</div>"
      ],
      "text/plain": [
       "      Out?  Distance Covered  Hang Time  Wall?  Back?  Out Binary  \\\n",
       "0     True            107.94       6.39  False  False           1   \n",
       "1     True             79.66       5.89  False  False           1   \n",
       "2     True            100.94       6.39   True  False           1   \n",
       "3     True             25.90       3.71  False   True           1   \n",
       "4     True             72.66       4.75  False  False           1   \n",
       "..     ...               ...        ...    ...    ...         ...   \n",
       "262   True             62.02       3.49  False  False           1   \n",
       "263   True             93.94       5.65  False  False           1   \n",
       "264  False             91.98       3.81  False  False           0   \n",
       "265   True             79.66       3.99  False  False           1   \n",
       "266  False             58.38       1.79  False  False           0   \n",
       "\n",
       "     Wall Binary  Back Binary  BBD  \n",
       "0              0            0  OUT  \n",
       "1              0            0  OUT  \n",
       "2              1            0  OUT  \n",
       "3              0            1  OUT  \n",
       "4              0            0  OUT  \n",
       "..           ...          ...  ...  \n",
       "262            0            0  OUT  \n",
       "263            0            0  OUT  \n",
       "264            0            0  HIT  \n",
       "265            0            0  OUT  \n",
       "266            0            0  HIT  \n",
       "\n",
       "[267 rows x 9 columns]"
      ]
     },
     "execution_count": 4,
     "metadata": {},
     "output_type": "execute_result"
    }
   ],
   "source": [
    "JakeMeyers"
   ]
  },
  {
   "cell_type": "code",
   "execution_count": 5,
   "id": "6b4fcbee",
   "metadata": {},
   "outputs": [],
   "source": [
    "# Create a Logistic Regression model for Jake Meyers\n",
    "MeyersModel = OFlogreg(JakeMeyers)"
   ]
  },
  {
   "cell_type": "code",
   "execution_count": 6,
   "id": "f4063952",
   "metadata": {},
   "outputs": [
    {
     "data": {
      "text/plain": [
       "array([[0.60403735, 0.39596265],\n",
       "       [0.99283311, 0.00716689],\n",
       "       [0.39884393, 0.60115607]])"
      ]
     },
     "execution_count": 6,
     "metadata": {},
     "output_type": "execute_result"
    }
   ],
   "source": [
    "# Using the data, we can now make predictions for each of the following scenarios in order:\n",
    "# 60 ft distance, 3 second hang time: 39.6% catch probability\n",
    "# 140 ft distance, 5 second hang time: 0.7% catch probability\n",
    "# 140 ft distance, 6.5 secone hang time: 60.1% catch probability\n",
    "# NOTE: when you run this, new data will have been added and the model-- and the\n",
    "# catch probabilities as a result-- will be different.\n",
    "\n",
    "MeyersModel.predict_proba([[60,3],[140,5],[140,6.5]])"
   ]
  },
  {
   "cell_type": "code",
   "execution_count": 7,
   "id": "bb25219f",
   "metadata": {},
   "outputs": [
    {
     "data": {
      "text/plain": [
       "array([0, 0, 1])"
      ]
     },
     "execution_count": 7,
     "metadata": {},
     "output_type": "execute_result"
    }
   ],
   "source": [
    "# Same scenarios but if you only care about catch or not instead\n",
    "# of catch probability (0 = HIT, 1 = OUT)\n",
    "\n",
    "MeyersModel.predict([[60,3],[140,5],[140,6.5]])"
   ]
  },
  {
   "cell_type": "code",
   "execution_count": 8,
   "id": "5dd1f2f3",
   "metadata": {},
   "outputs": [
    {
     "name": "stdout",
     "output_type": "stream",
     "text": [
      "Paste Savant Link Here: https://baseballsavant.mlb.com/savant-player/jake-meyers-676694?stats=statcast-r-fielding-mlb\n"
     ]
    },
    {
     "data": {
      "image/png": "[encoded data removed]",
      "text/plain": [
       "<Figure size 432x288 with 1 Axes>"
      ]
     },
     "metadata": {
      "needs_background": "light"
     },
     "output_type": "display_data"
    }
   ],
   "source": [
    "chartRange()"
   ]
  },
  {
   "cell_type": "code",
   "execution_count": null,
   "id": "ce13f682",
   "metadata": {},
   "outputs": [],
   "source": []
  }
 ],
 "metadata": {
  "kernelspec": {
   "display_name": "Python 3 (ipykernel)",
   "language": "python",
   "name": "python3"
  },
  "language_info": {
   "codemirror_mode": {
    "name": "ipython",
    "version": 3
   },
   "file_extension": ".py",
   "mimetype": "text/x-python",
   "name": "python",
   "nbconvert_exporter": "python",
   "pygments_lexer": "ipython3",
   "version": "3.9.12"
  }
 },
 "nbformat": 4,
 "nbformat_minor": 5
}
